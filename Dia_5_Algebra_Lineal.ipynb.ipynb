{
 "cells": [
  {
   "cell_type": "code",
   "execution_count": 1,
   "id": "62b68b0a-c757-4724-bb4f-9517af7a19a9",
   "metadata": {},
   "outputs": [
    {
     "name": "stdout",
     "output_type": "stream",
     "text": [
      "--- Matriz A (Datos de Entrada) ---\n",
      "[[10.  5.  2.]\n",
      " [12.  6.  3.]]\n",
      "Dimensión (Filas, Columnas): (2, 3)\n",
      "------------------------------\n",
      "--- Matriz B (Pesos de la Red) ---\n",
      "[[0.5]\n",
      " [0.2]\n",
      " [0.1]]\n",
      "Dimensión (Filas, Columnas): (3, 1)\n",
      "------------------------------\n",
      "--- Matriz Resultado C = A · B (Multiplicación Matricial) ---\n",
      "[[6.2]\n",
      " [7.5]]\n",
      "Dimensión de C: (2, 1)\n",
      "------------------------------\n",
      "--- Matriz Transpuesta de A (A.T) ---\n",
      "[[10. 12.]\n",
      " [ 5.  6.]\n",
      " [ 2.  3.]]\n",
      "Dimensión de A.T: (3, 2)\n"
     ]
    }
   ],
   "source": [
    "import numpy as np\n",
    "\n",
    "# 1. Definir la Matriz A (2x3) - 2 filas, 3 columnas\n",
    "# Datos de 2 muestras con 3 características (ej. Temperatura, Presión, Vibración)\n",
    "A = np.array([\n",
    "    [10.0, 5.0, 2.0],\n",
    "    [12.0, 6.0, 3.0]\n",
    "])\n",
    "print(\"--- Matriz A (Datos de Entrada) ---\")\n",
    "print(A)\n",
    "print(\"Dimensión (Filas, Columnas):\", A.shape)\n",
    "print(\"-\" * 30)\n",
    "\n",
    "# 2. Definir la Matriz B (3x1) - 3 filas, 1 columna\n",
    "# Pesos de la red neuronal para esas 3 características\n",
    "B = np.array([\n",
    "    [0.5],\n",
    "    [0.2],\n",
    "    [0.1]\n",
    "])\n",
    "print(\"--- Matriz B (Pesos de la Red) ---\")\n",
    "print(B)\n",
    "print(\"Dimensión (Filas, Columnas):\", B.shape)\n",
    "print(\"-\" * 30)\n",
    "\n",
    "\n",
    "# 3. Multiplicación Matricial (Dot Product)\n",
    "# ¡CRUCIAL!: Para que la multiplicación A * B sea válida, el número de columnas de A (3)\n",
    "# debe ser igual al número de filas de B (3).\n",
    "# La matriz resultante será de 2x1.\n",
    "C = np.dot(A, B) \n",
    "\n",
    "print(\"--- Matriz Resultado C = A · B (Multiplicación Matricial) ---\")\n",
    "print(C)\n",
    "print(\"Dimensión de C:\", C.shape)\n",
    "print(\"-\" * 30)\n",
    "\n",
    "# 4. Cálculo de la Transpuesta (Importante para Backpropagation)\n",
    "A_T = A.T # '.T' es el método de NumPy para obtener la transpuesta\n",
    "print(\"--- Matriz Transpuesta de A (A.T) ---\")\n",
    "print(A_T)\n",
    "print(\"Dimensión de A.T:\", A_T.shape)"
   ]
  },
  {
   "cell_type": "code",
   "execution_count": null,
   "id": "962b1cb1-af77-4d60-ab91-67a4a757aed5",
   "metadata": {},
   "outputs": [],
   "source": []
  }
 ],
 "metadata": {
  "kernelspec": {
   "display_name": "Python 3 (ipykernel)",
   "language": "python",
   "name": "python3"
  },
  "language_info": {
   "codemirror_mode": {
    "name": "ipython",
    "version": 3
   },
   "file_extension": ".py",
   "mimetype": "text/x-python",
   "name": "python",
   "nbconvert_exporter": "python",
   "pygments_lexer": "ipython3",
   "version": "3.13.0"
  }
 },
 "nbformat": 4,
 "nbformat_minor": 5
}
